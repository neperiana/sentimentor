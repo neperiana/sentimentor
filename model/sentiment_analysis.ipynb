{
 "cells": [
  {
   "cell_type": "markdown",
   "id": "86093c3f",
   "metadata": {},
   "source": [
    "# AI Blitz 9 - Sentiment Detection"
   ]
  },
  {
   "cell_type": "code",
   "execution_count": 4,
   "id": "27b4db46",
   "metadata": {},
   "outputs": [],
   "source": [
    "import os\n",
    "\n",
    "# data analysis\n",
    "import numpy as np\n",
    "import pandas as pd\n",
    "\n",
    "# text analysis\n",
    "import spacy\n",
    "\n",
    "# scikit learn\n",
    "from xgboost import XGBClassifier\n",
    "from sklearn.metrics import f1_score, accuracy_score\n",
    "\n",
    "import pickle\n",
    "\n",
    "from app.tools import create_data"
   ]
  },
  {
   "cell_type": "code",
   "execution_count": 2,
   "id": "16a3020b",
   "metadata": {},
   "outputs": [
    {
     "name": "stdout",
     "output_type": "stream",
     "text": [
      "/home/neperiana/.cache/pypoetry/virtualenvs/sentimentor-Hdw3AJT1-py3.8/bin/python: No module named spacy\r\n"
     ]
    }
   ],
   "source": [
    "!python -m spacy download en_core_web_sm # Downloaing the model for engligh language will contains many pretrained preprocessing pipelines"
   ]
  },
  {
   "cell_type": "markdown",
   "id": "5a48829b",
   "metadata": {},
   "source": [
    "## Read data"
   ]
  },
  {
   "cell_type": "code",
   "execution_count": 5,
   "id": "b4db5e7a",
   "metadata": {},
   "outputs": [
    {
     "name": "stdout",
     "output_type": "stream",
     "text": [
      "(31255, 2)\n"
     ]
    },
    {
     "data": {
      "text/html": [
       "<div>\n",
       "<style scoped>\n",
       "    .dataframe tbody tr th:only-of-type {\n",
       "        vertical-align: middle;\n",
       "    }\n",
       "\n",
       "    .dataframe tbody tr th {\n",
       "        vertical-align: top;\n",
       "    }\n",
       "\n",
       "    .dataframe thead th {\n",
       "        text-align: right;\n",
       "    }\n",
       "</style>\n",
       "<table border=\"1\" class=\"dataframe\">\n",
       "  <thead>\n",
       "    <tr style=\"text-align: right;\">\n",
       "      <th></th>\n",
       "      <th>text</th>\n",
       "      <th>label</th>\n",
       "    </tr>\n",
       "  </thead>\n",
       "  <tbody>\n",
       "    <tr>\n",
       "      <th>0</th>\n",
       "      <td>takes no time to copy/paste a press release</td>\n",
       "      <td>0</td>\n",
       "    </tr>\n",
       "    <tr>\n",
       "      <th>1</th>\n",
       "      <td>You're delusional</td>\n",
       "      <td>1</td>\n",
       "    </tr>\n",
       "    <tr>\n",
       "      <th>2</th>\n",
       "      <td>Jazz fan here. I completely feel. Lindsay Mann...</td>\n",
       "      <td>0</td>\n",
       "    </tr>\n",
       "    <tr>\n",
       "      <th>3</th>\n",
       "      <td>ah i was also confused but i think they mean f...</td>\n",
       "      <td>0</td>\n",
       "    </tr>\n",
       "    <tr>\n",
       "      <th>4</th>\n",
       "      <td>Thank you so much. ♥️ that means a lot.</td>\n",
       "      <td>0</td>\n",
       "    </tr>\n",
       "  </tbody>\n",
       "</table>\n",
       "</div>"
      ],
      "text/plain": [
       "                                                text  label\n",
       "0        takes no time to copy/paste a press release      0\n",
       "1                                  You're delusional      1\n",
       "2  Jazz fan here. I completely feel. Lindsay Mann...      0\n",
       "3  ah i was also confused but i think they mean f...      0\n",
       "4            Thank you so much. ♥️ that means a lot.      0"
      ]
     },
     "execution_count": 5,
     "metadata": {},
     "output_type": "execute_result"
    }
   ],
   "source": [
    "df_train = pd.read_csv('data/train.csv')\n",
    "print(df_train.shape)\n",
    "df_train.head()"
   ]
  },
  {
   "cell_type": "code",
   "execution_count": 6,
   "id": "6497a7f1",
   "metadata": {},
   "outputs": [
    {
     "name": "stdout",
     "output_type": "stream",
     "text": [
      "(3473, 2)\n"
     ]
    },
    {
     "data": {
      "text/html": [
       "<div>\n",
       "<style scoped>\n",
       "    .dataframe tbody tr th:only-of-type {\n",
       "        vertical-align: middle;\n",
       "    }\n",
       "\n",
       "    .dataframe tbody tr th {\n",
       "        vertical-align: top;\n",
       "    }\n",
       "\n",
       "    .dataframe thead th {\n",
       "        text-align: right;\n",
       "    }\n",
       "</style>\n",
       "<table border=\"1\" class=\"dataframe\">\n",
       "  <thead>\n",
       "    <tr style=\"text-align: right;\">\n",
       "      <th></th>\n",
       "      <th>text</th>\n",
       "      <th>label</th>\n",
       "    </tr>\n",
       "  </thead>\n",
       "  <tbody>\n",
       "    <tr>\n",
       "      <th>0</th>\n",
       "      <td>While I agree with my political views could be...</td>\n",
       "      <td>0</td>\n",
       "    </tr>\n",
       "    <tr>\n",
       "      <th>1</th>\n",
       "      <td>im still starving</td>\n",
       "      <td>1</td>\n",
       "    </tr>\n",
       "    <tr>\n",
       "      <th>2</th>\n",
       "      <td>*Hey just noticed..* it's your **2nd Cakeday**...</td>\n",
       "      <td>0</td>\n",
       "    </tr>\n",
       "    <tr>\n",
       "      <th>3</th>\n",
       "      <td>They just did. Check out the sticky post.</td>\n",
       "      <td>0</td>\n",
       "    </tr>\n",
       "    <tr>\n",
       "      <th>4</th>\n",
       "      <td>I hope so too, she deserves it.</td>\n",
       "      <td>0</td>\n",
       "    </tr>\n",
       "  </tbody>\n",
       "</table>\n",
       "</div>"
      ],
      "text/plain": [
       "                                                text  label\n",
       "0  While I agree with my political views could be...      0\n",
       "1                                  im still starving      1\n",
       "2  *Hey just noticed..* it's your **2nd Cakeday**...      0\n",
       "3          They just did. Check out the sticky post.      0\n",
       "4                    I hope so too, she deserves it.      0"
      ]
     },
     "execution_count": 6,
     "metadata": {},
     "output_type": "execute_result"
    }
   ],
   "source": [
    "df_val = pd.read_csv('data/val.csv')\n",
    "print(df_val.shape)\n",
    "df_val.head()"
   ]
  },
  {
   "cell_type": "code",
   "execution_count": 7,
   "id": "df75bba8",
   "metadata": {},
   "outputs": [
    {
     "name": "stdout",
     "output_type": "stream",
     "text": [
      "(8682, 2)\n"
     ]
    },
    {
     "data": {
      "text/html": [
       "<div>\n",
       "<style scoped>\n",
       "    .dataframe tbody tr th:only-of-type {\n",
       "        vertical-align: middle;\n",
       "    }\n",
       "\n",
       "    .dataframe tbody tr th {\n",
       "        vertical-align: top;\n",
       "    }\n",
       "\n",
       "    .dataframe thead th {\n",
       "        text-align: right;\n",
       "    }\n",
       "</style>\n",
       "<table border=\"1\" class=\"dataframe\">\n",
       "  <thead>\n",
       "    <tr style=\"text-align: right;\">\n",
       "      <th></th>\n",
       "      <th>text</th>\n",
       "      <th>label</th>\n",
       "    </tr>\n",
       "  </thead>\n",
       "  <tbody>\n",
       "    <tr>\n",
       "      <th>0</th>\n",
       "      <td>I was already over the edge with Cassie Zamora...</td>\n",
       "      <td>0</td>\n",
       "    </tr>\n",
       "    <tr>\n",
       "      <th>1</th>\n",
       "      <td>I think you're right. She has oodles of cash a...</td>\n",
       "      <td>0</td>\n",
       "    </tr>\n",
       "    <tr>\n",
       "      <th>2</th>\n",
       "      <td>Haha I love this. I used to give mine phone bo...</td>\n",
       "      <td>1</td>\n",
       "    </tr>\n",
       "    <tr>\n",
       "      <th>3</th>\n",
       "      <td>Probably out of desperation as they going no a...</td>\n",
       "      <td>0</td>\n",
       "    </tr>\n",
       "    <tr>\n",
       "      <th>4</th>\n",
       "      <td>Sorry !! You’re real good at that!!</td>\n",
       "      <td>0</td>\n",
       "    </tr>\n",
       "  </tbody>\n",
       "</table>\n",
       "</div>"
      ],
      "text/plain": [
       "                                                text  label\n",
       "0  I was already over the edge with Cassie Zamora...      0\n",
       "1  I think you're right. She has oodles of cash a...      0\n",
       "2  Haha I love this. I used to give mine phone bo...      1\n",
       "3  Probably out of desperation as they going no a...      0\n",
       "4                Sorry !! You’re real good at that!!      0"
      ]
     },
     "execution_count": 7,
     "metadata": {},
     "output_type": "execute_result"
    }
   ],
   "source": [
    "df_test = pd.read_csv('data/test.csv')\n",
    "print(df_test.shape)\n",
    "df_test.head()"
   ]
  },
  {
   "cell_type": "markdown",
   "id": "1a49433b",
   "metadata": {},
   "source": [
    "## Data processing using word2vec"
   ]
  },
  {
   "cell_type": "code",
   "execution_count": null,
   "id": "f5154584",
   "metadata": {},
   "outputs": [],
   "source": [
    "nlp = spacy.load('en_core_web_sm')"
   ]
  },
  {
   "cell_type": "code",
   "execution_count": 9,
   "id": "7c25d96a",
   "metadata": {},
   "outputs": [
    {
     "data": {
      "text/plain": [
       "'ah i was also confused but i think they mean friends around the same age'"
      ]
     },
     "execution_count": 9,
     "metadata": {},
     "output_type": "execute_result"
    }
   ],
   "source": [
    "# Getting a sample text from training dataset to demonstrate word2vec  \n",
    "sample_text = df_train.iloc[3]['text'] \n",
    "sample_text"
   ]
  },
  {
   "cell_type": "code",
   "execution_count": 10,
   "id": "68f50cd1",
   "metadata": {},
   "outputs": [
    {
     "data": {
      "text/plain": [
       "array([-0.15878154, -0.03677491, -0.26570484,  0.153825  ,  0.5224229 ,\n",
       "        0.2477987 ,  0.22043146, -0.08919676,  0.15389247, -0.13799287,\n",
       "        0.03572906, -0.14947385, -0.08140312, -0.4520209 ,  0.1583632 ,\n",
       "       -0.33586153,  0.25967005,  0.04424061,  0.31546462,  0.17561674,\n",
       "       -0.09352725, -0.33157822, -0.21478768,  0.3185982 , -0.31043687,\n",
       "       -0.35127166,  0.13590854,  0.01204349,  0.11739865, -0.13809504,\n",
       "       -0.01827029, -0.5766309 , -0.1536432 ,  0.10616783, -0.07159047,\n",
       "       -0.69067687, -0.22970244, -0.06416092,  0.2803262 , -0.15795292,\n",
       "       -0.48734984, -0.34739298,  0.22527488, -0.01436723,  0.14623967,\n",
       "       -0.06568522,  0.23915103, -0.2348073 ,  0.09553125,  0.01283267,\n",
       "        0.30198038,  0.7464748 ,  0.02582642, -0.40294746, -0.34426636,\n",
       "        0.33271903, -0.23377565, -0.11946503,  0.15855373, -0.15903643,\n",
       "       -0.07973281, -0.17950998,  0.20564462,  0.02248472,  0.38529328,\n",
       "       -0.25225443,  0.3150023 , -0.43472373,  0.03292338, -0.22059768,\n",
       "        0.21294305,  0.15866493,  0.02842238, -0.02138735,  0.18839853,\n",
       "       -0.07384764, -0.05196708,  0.07950323, -0.04017641,  0.13135642,\n",
       "        0.05836487, -0.2036837 ,  0.24980904,  0.18911125, -0.13702592,\n",
       "       -0.32940194, -0.04894001, -0.21158996, -0.34375823,  0.40493336,\n",
       "        0.2975432 ,  0.2747635 ,  0.13034217,  0.09454788,  0.15460387,\n",
       "        0.28467637], dtype=float32)"
      ]
     },
     "execution_count": 10,
     "metadata": {},
     "output_type": "execute_result"
    }
   ],
   "source": [
    "# Inputting the text in nlp function\n",
    "doc = nlp(sample_text)\n",
    "\n",
    "# Getting the embeddings from the sample text\n",
    "doc.vector"
   ]
  },
  {
   "cell_type": "code",
   "execution_count": 12,
   "id": "4e4b1790",
   "metadata": {},
   "outputs": [],
   "source": [
    "# Creating the training dataset\n",
    "X_train, y_train = create_data(df_train)\n",
    "\n",
    "# Creating the validation dataset\n",
    "X_val, y_val = create_data(df_val)"
   ]
  },
  {
   "cell_type": "markdown",
   "id": "db43809b",
   "metadata": {},
   "source": [
    "## Training model"
   ]
  },
  {
   "cell_type": "code",
   "execution_count": 34,
   "id": "086c675a",
   "metadata": {},
   "outputs": [],
   "source": [
    "params = {\n",
    "    'alpha': 1.332478736676892,\n",
    "    'colsample_bytree': 0.9517609933272821,\n",
    "    'eta': 0.14374409112885878,\n",
    "    'eval_metric': 'auc',\n",
    "    'max_depth': 10,\n",
    "    'min_child_weight': 9.72576189153768,\n",
    "    'n_estimators': 48,\n",
    "    'scale_pos_weight': 3.7812452195196573,\n",
    "}"
   ]
  },
  {
   "cell_type": "code",
   "execution_count": 35,
   "id": "a0d2a0fe",
   "metadata": {},
   "outputs": [],
   "source": [
    "clf = XGBClassifier(**params, objective='binary:logistic')"
   ]
  },
  {
   "cell_type": "code",
   "execution_count": 36,
   "id": "7f2277ce",
   "metadata": {},
   "outputs": [],
   "source": [
    "clf = clf.fit(X_train, y_train)"
   ]
  },
  {
   "cell_type": "markdown",
   "id": "0db69723",
   "metadata": {},
   "source": [
    "## Validation"
   ]
  },
  {
   "cell_type": "code",
   "execution_count": 37,
   "id": "bbf73569",
   "metadata": {},
   "outputs": [],
   "source": [
    "pred_val = clf.predict(X_val)"
   ]
  },
  {
   "cell_type": "code",
   "execution_count": 38,
   "id": "3788a8ac",
   "metadata": {},
   "outputs": [
    {
     "name": "stdout",
     "output_type": "stream",
     "text": [
      "Validation F1 Score  : 0.27813620071684586 and Accuracy Score 0.710048949035416\n"
     ]
    }
   ],
   "source": [
    "# Getting F1 & Accuracy score of validation predictions\n",
    "f1 = f1_score(y_val, pred_val)\n",
    "accuracy = accuracy_score(y_val, pred_val)\n",
    "\n",
    "print(f\"Validation F1 Score  : {f1} and Accuracy Score {accuracy}\")"
   ]
  },
  {
   "cell_type": "markdown",
   "id": "f43b81ee",
   "metadata": {},
   "source": [
    "## Saving model locally"
   ]
  },
  {
   "cell_type": "code",
   "execution_count": 47,
   "id": "700c43db",
   "metadata": {},
   "outputs": [],
   "source": [
    "filename = 'sentiment_cgb.pkl'\n",
    "pickle.dump(clf, open(filename, 'wb'))"
   ]
  },
  {
   "cell_type": "markdown",
   "id": "a67eb7b5",
   "metadata": {},
   "source": [
    "## Submitting results"
   ]
  },
  {
   "cell_type": "code",
   "execution_count": 39,
   "id": "e9887aec",
   "metadata": {},
   "outputs": [],
   "source": [
    "# By settings is_train=False, the create_data function will only output the features as setuped in the function\n",
    "X_test = create_data(df_test, is_train=False)\n",
    "pred_test = clf.predict(X_test)"
   ]
  },
  {
   "cell_type": "code",
   "execution_count": 40,
   "id": "a180c347",
   "metadata": {},
   "outputs": [
    {
     "data": {
      "text/html": [
       "<div>\n",
       "<style scoped>\n",
       "    .dataframe tbody tr th:only-of-type {\n",
       "        vertical-align: middle;\n",
       "    }\n",
       "\n",
       "    .dataframe tbody tr th {\n",
       "        vertical-align: top;\n",
       "    }\n",
       "\n",
       "    .dataframe thead th {\n",
       "        text-align: right;\n",
       "    }\n",
       "</style>\n",
       "<table border=\"1\" class=\"dataframe\">\n",
       "  <thead>\n",
       "    <tr style=\"text-align: right;\">\n",
       "      <th></th>\n",
       "      <th>text</th>\n",
       "      <th>label</th>\n",
       "    </tr>\n",
       "  </thead>\n",
       "  <tbody>\n",
       "    <tr>\n",
       "      <th>0</th>\n",
       "      <td>I was already over the edge with Cassie Zamora...</td>\n",
       "      <td>0</td>\n",
       "    </tr>\n",
       "    <tr>\n",
       "      <th>1</th>\n",
       "      <td>I think you're right. She has oodles of cash a...</td>\n",
       "      <td>1</td>\n",
       "    </tr>\n",
       "    <tr>\n",
       "      <th>2</th>\n",
       "      <td>Haha I love this. I used to give mine phone bo...</td>\n",
       "      <td>0</td>\n",
       "    </tr>\n",
       "    <tr>\n",
       "      <th>3</th>\n",
       "      <td>Probably out of desperation as they going no a...</td>\n",
       "      <td>0</td>\n",
       "    </tr>\n",
       "    <tr>\n",
       "      <th>4</th>\n",
       "      <td>Sorry !! You’re real good at that!!</td>\n",
       "      <td>0</td>\n",
       "    </tr>\n",
       "  </tbody>\n",
       "</table>\n",
       "</div>"
      ],
      "text/plain": [
       "                                                text  label\n",
       "0  I was already over the edge with Cassie Zamora...      0\n",
       "1  I think you're right. She has oodles of cash a...      1\n",
       "2  Haha I love this. I used to give mine phone bo...      0\n",
       "3  Probably out of desperation as they going no a...      0\n",
       "4                Sorry !! You’re real good at that!!      0"
      ]
     },
     "execution_count": 40,
     "metadata": {},
     "output_type": "execute_result"
    }
   ],
   "source": [
    "# Applying the predictions to the labels column of the sample submission \n",
    "df_test['label'] = pred_test\n",
    "df_test.head()"
   ]
  },
  {
   "cell_type": "code",
   "execution_count": 41,
   "id": "f968fd35",
   "metadata": {},
   "outputs": [
    {
     "name": "stdout",
     "output_type": "stream",
     "text": [
      "\u001b[32mAPI Key valid\u001b[0m\r\n",
      "\u001b[32mSaved API Key successfully!\u001b[0m\r\n"
     ]
    }
   ],
   "source": [
    "# loging in to aicrowd\n",
    "API_KEY = os.environ.get('AICROWD_API_KEY') # Please get your your API Key from [https://www.aicrowd.com/participants/me]\n",
    "!aicrowd login --api-key $API_KEY"
   ]
  },
  {
   "cell_type": "code",
   "execution_count": 44,
   "id": "ff74a6ea",
   "metadata": {},
   "outputs": [],
   "source": [
    "!mkdir assets\n",
    "\n",
    "# Saving the sample submission in assets directory\n",
    "df_test.to_csv(os.path.join(\"assets\", \"submission.csv\"), index=False)"
   ]
  },
  {
   "cell_type": "code",
   "execution_count": 45,
   "id": "85172658",
   "metadata": {},
   "outputs": [
    {
     "name": "stdout",
     "output_type": "stream",
     "text": [
      "/home/neperiana/anaconda3/lib/python3.8/site-packages/aicrowd/notebook/helpers.py:361: UserWarning: `%aicrowd` magic command can be used to save the notebook inside jupyter notebook/jupyterLab environment and also to get the notebook directly from the frontend without mounting the drive in colab environment. You can use magic command to save the notebook automatically and submit using the code below:\n",
      " %load_ext aicrowd.magic\n",
      "%aicrowd notebook submit -c emotion-detection -a assets --no-verify\n",
      "  warnings.warn(description + code)\n",
      "Using notebook: sentiment_analysis.ipynb for submission...\n",
      "Scrubbing API keys from the notebook...\n",
      "Collecting notebook...\n",
      "\u001b[2K\u001b[1;34msubmission.zip\u001b[0m \u001b[38;2;114;156;31m━━━━━━━━━━━━━━━━━━━━\u001b[0m \u001b[35m100.0%\u001b[0m • \u001b[32m291.2/289.5 KB\u001b[0m • \u001b[31m2.1 MB/s\u001b[0m • \u001b[36m0:00:00\u001b[0m[0m • \u001b[36m0:00:01\u001b[0m[36m0:00:01\u001b[0m\n",
      "\u001b[?25h                                                  ╭─────────────────────────╮                                                  \n",
      "                                                  │ \u001b[1mSuccessfully submitted!\u001b[0m │                                                  \n",
      "                                                  ╰─────────────────────────╯                                                  \n",
      "\u001b[3m                                                        Important links                                                        \u001b[0m\n",
      "┌──────────────────┬──────────────────────────────────────────────────────────────────────────────────────────────────────────┐\n",
      "│  This submission │ https://www.aicrowd.com/challenges/ai-blitz-9/problems/emotion-detection/submissions/172435              │\n",
      "│                  │                                                                                                          │\n",
      "│  All submissions │ https://www.aicrowd.com/challenges/ai-blitz-9/problems/emotion-detection/submissions?my_submissions=true │\n",
      "│                  │                                                                                                          │\n",
      "│      Leaderboard │ https://www.aicrowd.com/challenges/ai-blitz-9/problems/emotion-detection/leaderboards                    │\n",
      "│                  │                                                                                                          │\n",
      "│ Discussion forum │ https://discourse.aicrowd.com/c/ai-blitz-9                                                               │\n",
      "│                  │                                                                                                          │\n",
      "│   Challenge page │ https://www.aicrowd.com/challenges/ai-blitz-9/problems/emotion-detection                                 │\n",
      "└──────────────────┴──────────────────────────────────────────────────────────────────────────────────────────────────────────┘\n"
     ]
    }
   ],
   "source": [
    "!aicrowd notebook submit -c emotion-detection -a assets --no-verify"
   ]
  },
  {
   "cell_type": "code",
   "execution_count": null,
   "id": "a33c2768",
   "metadata": {},
   "outputs": [],
   "source": []
  }
 ],
 "metadata": {
  "interpreter": {
   "hash": "767d51c1340bd893661ea55ea3124f6de3c7a262a8b4abca0554b478b1e2ff90"
  },
  "kernelspec": {
   "display_name": "Python 3 (ipykernel)",
   "language": "python",
   "name": "python3"
  },
  "language_info": {
   "codemirror_mode": {
    "name": "ipython",
    "version": 3
   },
   "file_extension": ".py",
   "mimetype": "text/x-python",
   "name": "python",
   "nbconvert_exporter": "python",
   "pygments_lexer": "ipython3",
   "version": "3.8.3"
  }
 },
 "nbformat": 4,
 "nbformat_minor": 5
}
